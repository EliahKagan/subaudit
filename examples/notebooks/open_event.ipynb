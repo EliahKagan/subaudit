{
 "cells": [
  {
   "attachments": {},
   "cell_type": "markdown",
   "metadata": {},
   "source": [
    "# The `open` event\n",
    "\n",
    "The `open` audit event is raised when a file is opened by the `open` builtin\n",
    "and some other mechanisms.\n",
    "\n",
    "This notebook shows one other function that also raises the `open` event, but\n",
    "there are others not shown here."
   ]
  },
  {
   "cell_type": "code",
   "execution_count": 1,
   "metadata": {},
   "outputs": [],
   "source": [
    "import os\n",
    "from pathlib import Path\n",
    "import platform\n",
    "\n",
    "import subaudit"
   ]
  },
  {
   "cell_type": "code",
   "execution_count": 2,
   "metadata": {},
   "outputs": [],
   "source": [
    "# Support both VS Code and JupyterLab, which give notebooks different CWDs.\n",
    "if not Path('LICENSE').exists():\n",
    "    grandparent = Path().absolute().parent.parent\n",
    "    assert (grandparent / 'LICENSE').exists()\n",
    "    os.chdir(grandparent)\n",
    "\n",
    "# We'll open this other file, too, in another example.\n",
    "assert Path('README.md').exists()"
   ]
  },
  {
   "attachments": {},
   "cell_type": "markdown",
   "metadata": {},
   "source": [
    "## From the `open` builtin"
   ]
  },
  {
   "cell_type": "code",
   "execution_count": 3,
   "metadata": {},
   "outputs": [
    {
     "data": {
      "text/plain": [
       "[('LICENSE', 'r', 524288)]"
      ]
     },
     "execution_count": 3,
     "metadata": {},
     "output_type": "execute_result"
    }
   ],
   "source": [
    "with subaudit.extracting('open', lambda *args: (*args,)) as extracts:\n",
    "    with open('LICENSE', encoding='utf-8'):\n",
    "        pass\n",
    "\n",
    "extracts"
   ]
  },
  {
   "attachments": {},
   "cell_type": "markdown",
   "metadata": {},
   "source": [
    "On CPython, the above output tends to look like:\n",
    "\n",
    "```python\n",
    "[('README.md', 'r', 524288)]\n",
    "```\n",
    "\n",
    "The value of flags (the third argument) can to vary across platforms.\n",
    "\n",
    "On PyPy, it tends to look like:\n",
    "\n",
    "```python\n",
    "[('LICENSE', 'r', 1)]\n",
    "```"
   ]
  },
  {
   "attachments": {},
   "cell_type": "markdown",
   "metadata": {},
   "source": [
    "## From `pathlib.Path`’s `read_*` and `write_*`"
   ]
  },
  {
   "attachments": {},
   "cell_type": "markdown",
   "metadata": {},
   "source": [
    "Using a `pathlib.Path` object to open a file, by calling its `read_bytes`,\n",
    "`read_text`, `write_bytes`, or `write_text` methods, likewise raises the `open`\n",
    "event.\n",
    "\n",
    "In Python 3.10 and later, a call to one of those methods raises the `open`\n",
    "event only once.\n",
    "\n",
    "Prior to 3.10, a call to one of those methods raises the `open` event *twice*:\n",
    "in effect, the method raises it on behalf of itself as well. This can be\n",
    "distinguished because it passes `None` for the `mode` argument. In addition, on\n",
    "PyPy, this call passes a `Path` object rather than `str`, for the `path`\n",
    "argument. This additional event is raised *after* the regular one."
   ]
  },
  {
   "cell_type": "code",
   "execution_count": 4,
   "metadata": {},
   "outputs": [
    {
     "data": {
      "text/plain": [
       "[('README.md', 'r', 524288)]"
      ]
     },
     "execution_count": 4,
     "metadata": {},
     "output_type": "execute_result"
    }
   ],
   "source": [
    "with subaudit.extracting('open', lambda *args: (*args,)) as extracts:\n",
    "    Path('README.md').read_text(encoding='utf-8')\n",
    "\n",
    "extracts"
   ]
  },
  {
   "attachments": {},
   "cell_type": "markdown",
   "metadata": {},
   "source": [
    "On Python 3.10 and higher, the above output tends to look like:\n",
    "\n",
    "```python\n",
    "[('README.md', 'r', 524288)]\n",
    "```\n",
    "\n",
    "On CPython 3.9 and earlier, it tends to look like:\n",
    "\n",
    "```python\n",
    "[('README.md', 'r', 524288), ('README.md', None, 524288)]\n",
    "```\n",
    "\n",
    "On PyPy, when providing 3.9 or earlier, it tends to look like:\n",
    "\n",
    "```python\n",
    "[('README.md', 'r', 1), (PosixPath('README.md'), None, 524288)]\n",
    "```\n",
    "\n",
    "Note: The testing to confirm the PyPy behavior was done with PyPy 3.8 only."
   ]
  },
  {
   "cell_type": "code",
   "execution_count": 5,
   "metadata": {},
   "outputs": [
    {
     "data": {
      "text/plain": [
       "'CPython'"
      ]
     },
     "execution_count": 5,
     "metadata": {},
     "output_type": "execute_result"
    }
   ],
   "source": [
    "platform.python_implementation()"
   ]
  },
  {
   "cell_type": "code",
   "execution_count": 6,
   "metadata": {},
   "outputs": [
    {
     "data": {
      "text/plain": [
       "'3.11.3'"
      ]
     },
     "execution_count": 6,
     "metadata": {},
     "output_type": "execute_result"
    }
   ],
   "source": [
    "platform.python_version()"
   ]
  }
 ],
 "metadata": {
  "kernelspec": {
   "display_name": "subaudit-Ae4aMzzj-py3.11",
   "language": "python",
   "name": "python3"
  },
  "language_info": {
   "codemirror_mode": {
    "name": "ipython",
    "version": 3
   },
   "file_extension": ".py",
   "mimetype": "text/x-python",
   "name": "python",
   "nbconvert_exporter": "python",
   "pygments_lexer": "ipython3",
   "version": "3.11.3"
  },
  "orig_nbformat": 4
 },
 "nbformat": 4,
 "nbformat_minor": 2
}
