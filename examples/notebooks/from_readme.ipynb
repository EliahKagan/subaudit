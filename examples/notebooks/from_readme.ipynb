{
 "cells": [
  {
   "attachments": {},
   "cell_type": "markdown",
   "metadata": {},
   "source": [
    "# Examples from [`README.md`](../../README.md)\n",
    "\n",
    "The readme contains a number of generalized examples. This presents each,\n",
    "followed by specific code similar to it.\n",
    "\n",
    "This notebook does not reproduce most of the readme, only (some of) the Python\n",
    "code in it. This also does not replace the unit tests (in [`tests/`](../../tests/)). Showing that the *library* behaves correctly in all important respect is *not* one of the goals of this notebook. Showing that the the examples in the readme appear correct and are basically reasonable *is* one of the goals of this notebooks.\n",
    "\n",
    "Major section headings in this notebook are links to corresponding section in\n",
    "the readme."
   ]
  },
  {
   "cell_type": "code",
   "execution_count": 1,
   "metadata": {},
   "outputs": [],
   "source": [
    "import contextlib\n",
    "from dataclasses import InitVar, dataclass\n",
    "import glob\n",
    "import io\n",
    "import os\n",
    "from pathlib import Path\n",
    "import pprint\n",
    "import unittest\n",
    "from unittest.mock import ANY, Mock\n",
    "\n",
    "import subaudit"
   ]
  },
  {
   "cell_type": "code",
   "execution_count": 2,
   "metadata": {},
   "outputs": [],
   "source": [
    "# Support both VS Code and JupyterLab, which give notebooks different CWDs.\n",
    "if not Path('README.md').exists():\n",
    "    grandparent = Path().absolute().parent.parent\n",
    "    assert (grandparent / 'README.md').exists()\n",
    "    os.chdir(grandparent)"
   ]
  },
  {
   "cell_type": "code",
   "execution_count": 3,
   "metadata": {},
   "outputs": [],
   "source": [
    "def get_h1(file: io.FileIO) -> str:\n",
    "    \"\"\"Get a Markdown document heading. Unreliable but OK for demonstration.\"\"\"\n",
    "    return next(line[1:].strip() for line in file if line.startswith('#'))"
   ]
  },
  {
   "attachments": {},
   "cell_type": "markdown",
   "metadata": {},
   "source": [
    "## [The `subaudit.listening` context manager](../../README.md#the-subauditlistening-context-manager)\n",
    "\n",
    "### Defining a function and using it as a listener\n",
    "\n",
    "Generalized code from the readme:\n",
    "\n",
    "```python\n",
    "import subaudit\n",
    "\n",
    "def listen_open(path, mode, flags):\n",
    "    ...  # Handle the event.\n",
    "\n",
    "with subaudit.listening('open', listen_open):\n",
    "    ...  # Do something that may raise the event.\n",
    "```\n",
    "\n",
    "Specific runnable code example:"
   ]
  },
  {
   "cell_type": "code",
   "execution_count": 4,
   "metadata": {},
   "outputs": [
    {
     "name": "stdout",
     "output_type": "stream",
     "text": [
      "path='README.md', mode='r', flags=524288\n",
      "subaudit: Subscribe and unsubscribe for specific audit events\n"
     ]
    }
   ],
   "source": [
    "def listen_open(path: str, mode: str, flags: int) -> None:\n",
    "    print(f'{path=}, {mode=}, {flags=}')\n",
    "\n",
    "with subaudit.listening('open', listen_open):\n",
    "    with open('README.md', encoding='utf-8') as file:\n",
    "        print(get_h1(file))"
   ]
  },
  {
   "attachments": {},
   "cell_type": "markdown",
   "metadata": {},
   "source": [
    "### Using a `Mock` as a listener\n",
    "\n",
    "Generalized code from the readme:\n",
    "\n",
    "```python\n",
    "from unittest.mock import ANY, Mock\n",
    "import subaudit\n",
    "\n",
    "with subaudit.listening('open', Mock()) as listener:\n",
    "    ...  # Do something that may raise the event.\n",
    "\n",
    "listener.assert_any_call('/path/to/file.txt', 'r', ANY)\n",
    "```\n",
    "\n",
    "Specific runnable code example:"
   ]
  },
  {
   "cell_type": "code",
   "execution_count": 5,
   "metadata": {},
   "outputs": [
    {
     "name": "stdout",
     "output_type": "stream",
     "text": [
      "subaudit: Subscribe and unsubscribe for specific audit events\n"
     ]
    },
    {
     "data": {
      "text/plain": [
       "[call('README.md', 'r', 524288)]"
      ]
     },
     "execution_count": 5,
     "metadata": {},
     "output_type": "execute_result"
    }
   ],
   "source": [
    "with subaudit.listening('open', Mock()) as listener:\n",
    "    with open('README.md', encoding='utf-8') as file:\n",
    "        print(get_h1(file))\n",
    "\n",
    "# This should succeed silently.\n",
    "listener.assert_any_call('README.md', 'r', ANY)\n",
    "\n",
    "# Print the calls (which is probably just one call).\n",
    "listener.mock_calls"
   ]
  },
  {
   "attachments": {},
   "cell_type": "markdown",
   "metadata": {},
   "source": [
    "## [The `subaudit.extracting` context manager](../../README.md#the-subauditextracting-context-manager)\n",
    "\n",
    "Generalized code from the readme:\n",
    "\n",
    "```python\n",
    "from dataclasses import InitVar, dataclass\n",
    "import subaudit\n",
    "\n",
    "@dataclass(frozen=True)\n",
    "class PathAndMode:  # Usually str and int. See notebooks/open_event.ipynb.\n",
    "    path: str\n",
    "    mode: str\n",
    "    flags: InitVar = None  # Opt not to record this argument.\n",
    "\n",
    "with subaudit.extracting('open', PathAndMode) as extracts:\n",
    "    ...  # Do something that may raise the event.\n",
    "\n",
    "assert PathAndMode('/path/to/file.txt', 'r') in extracts\n",
    "```\n",
    "\n",
    "Specific runnable code example:"
   ]
  },
  {
   "cell_type": "code",
   "execution_count": 6,
   "metadata": {},
   "outputs": [
    {
     "name": "stdout",
     "output_type": "stream",
     "text": [
      "subaudit: Subscribe and unsubscribe for specific audit events\n"
     ]
    },
    {
     "data": {
      "text/plain": [
       "[PathAndMode(path='README.md', mode='r')]"
      ]
     },
     "execution_count": 6,
     "metadata": {},
     "output_type": "execute_result"
    }
   ],
   "source": [
    "@dataclass(frozen=True)\n",
    "class PathAndMode:  # Usually str and int. See notebooks/open_event.ipynb.\n",
    "    path: str\n",
    "    mode: str\n",
    "    flags: InitVar = None  # Opt not to record this argument.\n",
    "\n",
    "with subaudit.extracting('open', PathAndMode) as extracts:\n",
    "    with open('README.md', encoding='utf-8') as file:\n",
    "        print(get_h1(file))\n",
    "\n",
    "# This should succeed silently.\n",
    "assert PathAndMode('README.md', 'r') in extracts\n",
    "\n",
    "# Print the extracted data.\n",
    "extracts"
   ]
  },
  {
   "attachments": {},
   "cell_type": "markdown",
   "metadata": {},
   "source": [
    "## [`subaudit.subscribe` and `subaudit.unsubscribe`](../../README.md#subauditsubscribe-and-subauditunsubscribe)\n",
    "\n",
    "### Showing `subscribe` and `unsubscribe` with `try`-`finally`\n",
    "\n",
    "Generalized code from the readme:\n",
    "\n",
    "```python\n",
    "import subaudit\n",
    "\n",
    "def listen_open(path, mode, flags):\n",
    "    ...  # Handle the event.\n",
    "\n",
    "subaudit.subscribe('open', listen_open)\n",
    "try:\n",
    "    ...  # Do something that may raise the event.\n",
    "finally:\n",
    "    subaudit.unsubscribe('open', listen_open)\n",
    "```\n",
    "\n",
    "Specific runnable code example:"
   ]
  },
  {
   "cell_type": "code",
   "execution_count": 7,
   "metadata": {},
   "outputs": [
    {
     "name": "stdout",
     "output_type": "stream",
     "text": [
      "path='README.md', mode='r', flags=524288\n",
      "subaudit: Subscribe and unsubscribe for specific audit events\n"
     ]
    }
   ],
   "source": [
    "def listen_open(path: str, mode: str, flags: int) -> None:\n",
    "    print(f'{path=}, {mode=}, {flags=}')\n",
    "\n",
    "subaudit.subscribe('open', listen_open)\n",
    "try:\n",
    "    with open('README.md', encoding='utf-8') as file:\n",
    "        print(get_h1(file))\n",
    "finally:\n",
    "    subaudit.unsubscribe('open', listen_open)"
   ]
  },
  {
   "attachments": {},
   "cell_type": "markdown",
   "metadata": {},
   "source": [
    "### Suppressing unsubscribe `ValueError`\n",
    "\n",
    "Generalized code from the readme:\n",
    "\n",
    "```python\n",
    "with contextlib.suppress(ValueError):\n",
    "    subaudit.unsubscribe('glob.glob', possibly_subscribed_listener)\n",
    "```\n",
    "\n",
    "Specific runnable code example:"
   ]
  },
  {
   "cell_type": "code",
   "execution_count": 8,
   "metadata": {},
   "outputs": [],
   "source": [
    "listener1 = Mock()\n",
    "listener2 = Mock()\n",
    "listener3 = Mock()  # In this example, we don't actually subscribe this.\n",
    "try:\n",
    "    # Normally we acquire the resource before entering the try-block, but here\n",
    "    # the point is that we're freeing the resource (actually, resources) in a\n",
    "    # way that tolerates if they have never actually been acquired.\n",
    "    for listener in listener1, listener2:\n",
    "        subaudit.subscribe('glob.glob', listener)\n",
    "finally:\n",
    "    for listener in listener1, listener2, listener3:\n",
    "        with contextlib.suppress(ValueError):\n",
    "            subaudit.unsubscribe('glob.glob', listener)"
   ]
  },
  {
   "attachments": {},
   "cell_type": "markdown",
   "metadata": {},
   "source": [
    "## [Nesting](../../README.md#nesting)\n",
    "\n",
    "### Three `listening` contexts\n",
    "\n",
    "Generalized code from the readme:\n",
    "\n",
    "```python\n",
    "from unittest.mock import Mock, call\n",
    "\n",
    "listen_to = Mock()  # Let us assert calls to child mocks in a specific order.\n",
    "\n",
    "with subaudit.listening('open', print):  # Print all open events' arguments.\n",
    "    with subaudit.listening('open', listen_to.open):  # Log opening.\n",
    "        with subaudit.listening('glob.glob', listen_to.glob):  # Log globbing.\n",
    "            ...  # Do something that may raise the events.\n",
    "\n",
    "assert listen_to.mock_calls == ...  # Assert a specific order of calls.\n",
    "```\n",
    "\n",
    "Specific runnable code example:"
   ]
  },
  {
   "cell_type": "code",
   "execution_count": 9,
   "metadata": {},
   "outputs": [
    {
     "name": "stdout",
     "output_type": "stream",
     "text": [
      "README.md r 524288\n",
      "subaudit: Subscribe and unsubscribe for specific audit events\n"
     ]
    },
    {
     "data": {
      "text/plain": [
       "[call.glob('README.*', False), call.open('README.md', 'r', 524288)]"
      ]
     },
     "execution_count": 9,
     "metadata": {},
     "output_type": "execute_result"
    }
   ],
   "source": [
    "listen_to = Mock()  # Let us assert calls to child mocks in a specific order.\n",
    "\n",
    "with subaudit.listening('open', print):  # Print all open events' arguments.\n",
    "    with subaudit.listening('open', listen_to.open):  # Log opening.\n",
    "        with subaudit.listening('glob.glob', listen_to.glob):  # Log globbing.\n",
    "            paths = glob.glob('README.*')\n",
    "            with open(paths[0], encoding='utf-8') as file:\n",
    "                print(get_h1(file))\n",
    "\n",
    "# Show the calls.\n",
    "listen_to.mock_calls"
   ]
  },
  {
   "attachments": {},
   "cell_type": "markdown",
   "metadata": {},
   "source": [
    "### Both `listening` and `extracting` contexts\n",
    "\n",
    "Generalized code from the readme:\n",
    "\n",
    "```python\n",
    "from unittest.mock import Mock, call\n",
    "\n",
    "def extract(*args):\n",
    "    return args\n",
    "\n",
    "with (\n",
    "    subaudit.extracting('pathlib.Path.glob', extract) as glob_extracts,\n",
    "    subaudit.listening('pathlib.Path.glob', Mock()) as glob_listener,\n",
    "    subaudit.extracting('pathlib.Path.rglob', extract) as rglob_extracts,\n",
    "    subaudit.listening('pathlib.Path.rglob', Mock()) as rglob_listener,\n",
    "):\n",
    "    ...  # Do something that may raise the events.\n",
    "\n",
    "# Assert something about, or otherwise use, the mocks glob_listener and\n",
    "# rglob_listener, as well as the lists glob_extracts and rglob_extracts.\n",
    "...\n",
    "```\n",
    "\n",
    "Specific runnable code example (using an uglier syntax, because I don't want this notebook to require Python 3.10):"
   ]
  },
  {
   "cell_type": "code",
   "execution_count": 10,
   "metadata": {},
   "outputs": [
    {
     "name": "stdout",
     "output_type": "stream",
     "text": [
      "Non-recursive:\n",
      "[]\n",
      "\n",
      "Recursive:\n",
      "[PosixPath('examples/notebooks/from_readme.ipynb'),\n",
      " PosixPath('examples/notebooks/input_events.ipynb'),\n",
      " PosixPath('examples/notebooks/open_event.ipynb')]\n",
      "\n",
      "Non-recursive again (still empty):\n",
      "[]\n"
     ]
    }
   ],
   "source": [
    "def extract(*args):\n",
    "    return args\n",
    "\n",
    "with \\\n",
    "    subaudit.extracting('pathlib.Path.glob', extract) as glob_extracts, \\\n",
    "    subaudit.listening('pathlib.Path.glob', Mock()) as glob_listener, \\\n",
    "    subaudit.extracting('pathlib.Path.rglob', extract) as rglob_extracts, \\\n",
    "    subaudit.listening('pathlib.Path.rglob', Mock()) as rglob_listener \\\n",
    ":\n",
    "    print('Non-recursive:')\n",
    "    pprint.pp(list(Path().glob('*.ipynb')))\n",
    "    print()\n",
    "    print('Recursive:')\n",
    "    pprint.pp(list(Path().rglob('*.ipynb')))\n",
    "    print()\n",
    "    print('Non-recursive again (still empty):')\n",
    "    pprint.pp(list(Path().glob('*.ipynb')))"
   ]
  },
  {
   "cell_type": "code",
   "execution_count": 11,
   "metadata": {},
   "outputs": [
    {
     "data": {
      "text/plain": [
       "[call(PosixPath('.'), '*.ipynb'), call(PosixPath('.'), '*.ipynb')]"
      ]
     },
     "execution_count": 11,
     "metadata": {},
     "output_type": "execute_result"
    }
   ],
   "source": [
    "glob_listener.mock_calls"
   ]
  },
  {
   "cell_type": "code",
   "execution_count": 12,
   "metadata": {},
   "outputs": [
    {
     "data": {
      "text/plain": [
       "[call(PosixPath('.'), '*.ipynb')]"
      ]
     },
     "execution_count": 12,
     "metadata": {},
     "output_type": "execute_result"
    }
   ],
   "source": [
    "rglob_listener.mock_calls"
   ]
  },
  {
   "cell_type": "code",
   "execution_count": 13,
   "metadata": {},
   "outputs": [
    {
     "data": {
      "text/plain": [
       "[(PosixPath('.'), '*.ipynb'), (PosixPath('.'), '*.ipynb')]"
      ]
     },
     "execution_count": 13,
     "metadata": {},
     "output_type": "execute_result"
    }
   ],
   "source": [
    "glob_extracts"
   ]
  },
  {
   "cell_type": "code",
   "execution_count": 14,
   "metadata": {},
   "outputs": [
    {
     "data": {
      "text/plain": [
       "[(PosixPath('.'), '*.ipynb')]"
      ]
     },
     "execution_count": 14,
     "metadata": {},
     "output_type": "execute_result"
    }
   ],
   "source": [
    "rglob_extracts"
   ]
  },
  {
   "attachments": {},
   "cell_type": "markdown",
   "metadata": {},
   "source": [
    "*The [Specialized usage](../../README.md#specialized-usage) section contains no code blocks, so this notebook contains no corresponding section.*\n",
    "\n",
    "## [Functions related to compatibility](../../README.md#functions-related-to-compatibility)\n",
    "\n",
    "Only one of these has an example.\n",
    "\n",
    "### `@subaudit.skip_if_unavailable`\n",
    "\n",
    "Generalized code from the readme:\n",
    "\n",
    "```python\n",
    "import unittest\n",
    "from unittest.mock import ANY, Mock\n",
    "import subaudit\n",
    "\n",
    "class TestSomeThings(unittest.TestCase):\n",
    "    ...\n",
    "\n",
    "    @subaudit.skip_if_unavailable  # Skip this test if < 3.8, with a message.\n",
    "    def test_file_is_opened_for_read(self):\n",
    "        with subaudit.listening('open', Mock()) as listener:\n",
    "            ...  # Do something that may raise the event.\n",
    "\n",
    "        listener.assert_any_call('/path/to/file.txt', 'r', ANY)\n",
    "\n",
    "    ...\n",
    "\n",
    "@subaudit.skip_if_unavailable  # Skip the whole class if < 3.8, with a message.\n",
    "class TestSomeMoreThings(unittest.TestCase):\n",
    "    ...\n",
    "```\n",
    "\n",
    "Two specific runnable code examples follow, corresponding to the two cases."
   ]
  },
  {
   "attachments": {},
   "cell_type": "markdown",
   "metadata": {},
   "source": [
    "#### Python 3.8 or later - *Not* skipped\n",
    "\n",
    "The notebooks in this project, including this notebook, require Python 3.8. It is assumed, therefore, that the *real* situation is such that `@skip_if_unavailable` should not skip tests."
   ]
  },
  {
   "cell_type": "code",
   "execution_count": 15,
   "metadata": {},
   "outputs": [],
   "source": [
    "class TestSomeThings(unittest.TestCase):\n",
    "\n",
    "    @subaudit.skip_if_unavailable  # Skip this test if < 3.8, with a message.\n",
    "    def test_file_is_opened_for_read(self):\n",
    "        with subaudit.listening('open', Mock()) as listener:\n",
    "            ...  # Do something that may raise the event.\n",
    "\n",
    "        listener.assert_any_call('/path/to/file.txt', 'r', ANY)\n",
    "\n",
    "    def test_one_is_not_equal_to_two(self):  # Probably true even in Python 3.7.\n",
    "        self.assertNotEqual(1, 2)\n",
    "\n",
    "@subaudit.skip_if_unavailable  # Skip the whole class if < 3.8, with a message.\n",
    "class TestSomeMoreThings(unittest.TestCase):\n",
    "    ..."
   ]
  }
 ],
 "metadata": {
  "kernelspec": {
   "display_name": "subaudit-Ae4aMzzj-py3.11",
   "language": "python",
   "name": "python3"
  },
  "language_info": {
   "codemirror_mode": {
    "name": "ipython",
    "version": 3
   },
   "file_extension": ".py",
   "mimetype": "text/x-python",
   "name": "python",
   "nbconvert_exporter": "python",
   "pygments_lexer": "ipython3",
   "version": "3.11.3"
  },
  "orig_nbformat": 4
 },
 "nbformat": 4,
 "nbformat_minor": 2
}
