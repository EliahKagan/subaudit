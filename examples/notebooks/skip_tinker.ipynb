{
 "cells": [
  {
   "attachments": {},
   "cell_type": "markdown",
   "metadata": {},
   "source": [
    "# Ways to test `@skip_if_unavailable`\n",
    "\n",
    "This are some “internal” testing notes for `@skip_if_unavailable`.\n",
    "\n",
    "If you're looking for information on how to *use* the `@skip_if_unavailable`\n",
    "decorator, then this notebook is not what you want. Instead:\n",
    "\n",
    "- See [`README.md`](../../README.md).\n",
    "\n",
    "- See also the code of `@subaudit.skip_if_unavailable` (it's simple).\n",
    "\n",
    "- If those are insufficient, see the “`@subaudit.skip_if_unavailable`” section\n",
    "  of [`from_readme.ipynb`](from_readme.ipynb), which uses techniques from here\n",
    "  to simulate the Python 3.7 situation on later versions of Python, but which\n",
    "  ties it into the example code in [`README.md`](../../README.md).\n",
    "\n",
    "The unit tests (in [`tests/`](../../tests/)) did not end up use the technique\n",
    "shown here of patching `sys.version_info` and reloading the `subaudit` module.\n",
    "Note that this was considered for the tests *of* `@skip_if_unavailable`—it is\n",
    "*definitely not* something that would be done as part of *actually using*\n",
    "`@skip_if_unavailable` in a test suite."
   ]
  },
  {
   "cell_type": "code",
   "execution_count": 1,
   "metadata": {},
   "outputs": [],
   "source": [
    "import contextlib\n",
    "import importlib\n",
    "import sys\n",
    "\n",
    "import unittest.mock\n",
    "\n",
    "import subaudit"
   ]
  },
  {
   "cell_type": "code",
   "execution_count": 2,
   "metadata": {},
   "outputs": [],
   "source": [
    "sys.modules['sysaudit'] = sys"
   ]
  },
  {
   "cell_type": "code",
   "execution_count": 3,
   "metadata": {},
   "outputs": [],
   "source": [
    "def demo_skip_if_unavailable(*, patch_version):\n",
    "    if patch_version is None:\n",
    "        maybe_patcher = contextlib.nullcontext()\n",
    "    else:\n",
    "        maybe_patcher = unittest.mock.patch('sys.version_info', patch_version)\n",
    "\n",
    "    with maybe_patcher:\n",
    "        importlib.reload(subaudit)\n",
    "        mock_test = unittest.mock.Mock(wraps=lambda: None)\n",
    "        subaudit.skip_if_unavailable(mock_test)()\n",
    "        return mock_test.mock_calls"
   ]
  },
  {
   "cell_type": "code",
   "execution_count": 4,
   "metadata": {},
   "outputs": [
    {
     "data": {
      "text/plain": [
       "[call()]"
      ]
     },
     "execution_count": 4,
     "metadata": {},
     "output_type": "execute_result"
    }
   ],
   "source": [
    "demo_skip_if_unavailable(patch_version=None)"
   ]
  },
  {
   "cell_type": "code",
   "execution_count": 5,
   "metadata": {},
   "outputs": [
    {
     "ename": "SkipTest",
     "evalue": "Python Runtime Audit Hooks (PEP 578) were introduced in Python 3.8.",
     "output_type": "error",
     "traceback": [
      "\u001b[0;31m---------------------------------------------------------------------------\u001b[0m",
      "\u001b[0;31mSkipTest\u001b[0m                                  Traceback (most recent call last)",
      "Cell \u001b[0;32mIn[5], line 1\u001b[0m\n\u001b[0;32m----> 1\u001b[0m demo_skip_if_unavailable(patch_version\u001b[39m=\u001b[39;49m(\u001b[39m3\u001b[39;49m, \u001b[39m7\u001b[39;49m))\n",
      "Cell \u001b[0;32mIn[3], line 10\u001b[0m, in \u001b[0;36mdemo_skip_if_unavailable\u001b[0;34m(patch_version)\u001b[0m\n\u001b[1;32m      8\u001b[0m importlib\u001b[39m.\u001b[39mreload(subaudit)\n\u001b[1;32m      9\u001b[0m mock_test \u001b[39m=\u001b[39m unittest\u001b[39m.\u001b[39mmock\u001b[39m.\u001b[39mMock(wraps\u001b[39m=\u001b[39m\u001b[39mlambda\u001b[39;00m: \u001b[39mNone\u001b[39;00m)\n\u001b[0;32m---> 10\u001b[0m subaudit\u001b[39m.\u001b[39;49mskip_if_unavailable(mock_test)()\n\u001b[1;32m     11\u001b[0m \u001b[39mreturn\u001b[39;00m mock_test\u001b[39m.\u001b[39mmock_calls\n",
      "File \u001b[0;32m/usr/lib/python3.11/unittest/case.py:155\u001b[0m, in \u001b[0;36mskip.<locals>.decorator.<locals>.skip_wrapper\u001b[0;34m(*args, **kwargs)\u001b[0m\n\u001b[1;32m    153\u001b[0m \u001b[39m@functools\u001b[39m\u001b[39m.\u001b[39mwraps(test_item)\n\u001b[1;32m    154\u001b[0m \u001b[39mdef\u001b[39;00m \u001b[39mskip_wrapper\u001b[39m(\u001b[39m*\u001b[39margs, \u001b[39m*\u001b[39m\u001b[39m*\u001b[39mkwargs):\n\u001b[0;32m--> 155\u001b[0m     \u001b[39mraise\u001b[39;00m SkipTest(reason)\n",
      "\u001b[0;31mSkipTest\u001b[0m: Python Runtime Audit Hooks (PEP 578) were introduced in Python 3.8."
     ]
    }
   ],
   "source": [
    "demo_skip_if_unavailable(patch_version=(3, 7))"
   ]
  },
  {
   "cell_type": "code",
   "execution_count": null,
   "metadata": {},
   "outputs": [],
   "source": []
  }
 ],
 "metadata": {
  "kernelspec": {
   "display_name": "subaudit-Ae4aMzzj-py3.11",
   "language": "python",
   "name": "python3"
  },
  "language_info": {
   "codemirror_mode": {
    "name": "ipython",
    "version": 3
   },
   "file_extension": ".py",
   "mimetype": "text/x-python",
   "name": "python",
   "nbconvert_exporter": "python",
   "pygments_lexer": "ipython3",
   "version": "3.11.3"
  },
  "orig_nbformat": 4
 },
 "nbformat": 4,
 "nbformat_minor": 2
}
