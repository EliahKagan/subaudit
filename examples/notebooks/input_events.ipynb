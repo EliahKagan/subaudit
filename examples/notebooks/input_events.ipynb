{
 "cells": [
  {
   "attachments": {},
   "cell_type": "markdown",
   "metadata": {},
   "source": [
    "# The `input` events\n",
    "\n",
    "*SPDX-License-Identifier: 0BSD*\n",
    "\n",
    "The events associated with the `input` builtin are:\n",
    "\n",
    "- `builtins.input`\n",
    "- `builtins.input/result`"
   ]
  },
  {
   "cell_type": "code",
   "execution_count": 1,
   "metadata": {},
   "outputs": [],
   "source": [
    "import subaudit"
   ]
  },
  {
   "attachments": {},
   "cell_type": "markdown",
   "metadata": {},
   "source": [
    "This works when using a terminal to interact with a the vanilla `python` REPL:"
   ]
  },
  {
   "cell_type": "code",
   "execution_count": 2,
   "metadata": {},
   "outputs": [],
   "source": [
    "with subaudit.listening('builtins.input', print):\n",
    "    with subaudit.listening('builtins.input/result', print):\n",
    "        input('What is your name? ')"
   ]
  },
  {
   "attachments": {},
   "cell_type": "markdown",
   "metadata": {},
   "source": [
    "It doesn't work in a notebook, because the `input` function is monkey-patched in Jupyter notebooks:"
   ]
  },
  {
   "cell_type": "code",
   "execution_count": 3,
   "metadata": {},
   "outputs": [
    {
     "name": "stdout",
     "output_type": "stream",
     "text": [
      "Help on method raw_input in module ipykernel.kernelbase:\n",
      "\n",
      "raw_input(prompt='') method of ipykernel.ipkernel.IPythonKernel instance\n",
      "    Forward raw_input to frontends\n",
      "    \n",
      "    Raises\n",
      "    ------\n",
      "    StdinNotImplementedError if active frontend doesn't support stdin.\n",
      "\n"
     ]
    }
   ],
   "source": [
    "help(input)"
   ]
  },
  {
   "attachments": {},
   "cell_type": "markdown",
   "metadata": {},
   "source": [
    "The situation becomes more interesting when standard input is:\n",
    "\n",
    "- piped or redirected on the command line, *or*\n",
    "\n",
    "- \"redirected\" while the program runs, by patching `sys.stdin`, *or*\n",
    "\n",
    "- redirected while the program runs, by closing file descriptor 0 and either\n",
    "  reusing it to open a file on it or duplicating another file descriptor to it\n",
    "  (`dup2`).\n",
    "\n",
    "Currently, in CPython, the `input` builtin only raises the\n",
    "`builtins.input/result` event when GNU readline is used to receive input\n",
    "interactively. That happens when all the following hold:\n",
    "\n",
    "- `sys.stdin` wraps actual standard input.\n",
    "- Standard input is a terminal.\n",
    "- `sys.stdout` wraps actual standard output.\n",
    "- Standard output is a terminal.\n",
    "\n",
    "See https://github.com/python/cpython/blob/v3.11.3/Python/bltinmodule.c#L2249-L2253 and the preceding code."
   ]
  }
 ],
 "metadata": {
  "kernelspec": {
   "display_name": "subaudit-Ae4aMzzj-py3.11",
   "language": "python",
   "name": "python3"
  },
  "language_info": {
   "codemirror_mode": {
    "name": "ipython",
    "version": 3
   },
   "file_extension": ".py",
   "mimetype": "text/x-python",
   "name": "python",
   "nbconvert_exporter": "python",
   "pygments_lexer": "ipython3",
   "version": "3.8.16"
  },
  "orig_nbformat": 4
 },
 "nbformat": 4,
 "nbformat_minor": 2
}
