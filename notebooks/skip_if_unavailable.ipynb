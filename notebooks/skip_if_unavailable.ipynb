{
 "cells": [
  {
   "attachments": {},
   "cell_type": "markdown",
   "metadata": {},
   "source": [
    "# `@subaudit.skip_if_unavailable` demonstration"
   ]
  },
  {
   "cell_type": "code",
   "execution_count": 1,
   "metadata": {},
   "outputs": [],
   "source": [
    "import sys\n",
    "\n",
    "import unittest.mock"
   ]
  },
  {
   "cell_type": "code",
   "execution_count": 2,
   "metadata": {},
   "outputs": [],
   "source": [
    "sys.modules['sysaudit'] = sys"
   ]
  },
  {
   "cell_type": "code",
   "execution_count": 3,
   "metadata": {},
   "outputs": [
    {
     "ename": "SkipTest",
     "evalue": "Python Runtime Audit Hooks (PEP 578) were introduced in Python 3.8.",
     "output_type": "error",
     "traceback": [
      "\u001b[0;31m---------------------------------------------------------------------------\u001b[0m",
      "\u001b[0;31mSkipTest\u001b[0m                                  Traceback (most recent call last)",
      "Cell \u001b[0;32mIn[3], line 8\u001b[0m\n\u001b[1;32m      4\u001b[0m \u001b[39m@subaudit\u001b[39m\u001b[39m.\u001b[39mskip_if_unavailable\n\u001b[1;32m      5\u001b[0m \u001b[39mdef\u001b[39;00m \u001b[39mdummy\u001b[39m() \u001b[39m-\u001b[39m\u001b[39m>\u001b[39m \u001b[39mNone\u001b[39;00m:\n\u001b[1;32m      6\u001b[0m     \u001b[39mpass\u001b[39;00m\n\u001b[0;32m----> 8\u001b[0m dummy()\n",
      "File \u001b[0;32m/usr/lib/python3.11/unittest/case.py:155\u001b[0m, in \u001b[0;36mskip.<locals>.decorator.<locals>.skip_wrapper\u001b[0;34m(*args, **kwargs)\u001b[0m\n\u001b[1;32m    153\u001b[0m \u001b[39m@functools\u001b[39m\u001b[39m.\u001b[39mwraps(test_item)\n\u001b[1;32m    154\u001b[0m \u001b[39mdef\u001b[39;00m \u001b[39mskip_wrapper\u001b[39m(\u001b[39m*\u001b[39margs, \u001b[39m*\u001b[39m\u001b[39m*\u001b[39mkwargs):\n\u001b[0;32m--> 155\u001b[0m     \u001b[39mraise\u001b[39;00m SkipTest(reason)\n",
      "\u001b[0;31mSkipTest\u001b[0m: Python Runtime Audit Hooks (PEP 578) were introduced in Python 3.8."
     ]
    }
   ],
   "source": [
    "with unittest.mock.patch('sys.version_info', (3, 7)):\n",
    "    import subaudit\n",
    "\n",
    "    @subaudit.skip_if_unavailable\n",
    "    def dummy() -> None:\n",
    "        pass\n",
    "\n",
    "    dummy()"
   ]
  },
  {
   "cell_type": "code",
   "execution_count": null,
   "metadata": {},
   "outputs": [],
   "source": []
  }
 ],
 "metadata": {
  "kernelspec": {
   "display_name": "subaudit-Ae4aMzzj-py3.11",
   "language": "python",
   "name": "python3"
  },
  "language_info": {
   "codemirror_mode": {
    "name": "ipython",
    "version": 3
   },
   "file_extension": ".py",
   "mimetype": "text/x-python",
   "name": "python",
   "nbconvert_exporter": "python",
   "pygments_lexer": "ipython3",
   "version": "3.11.3"
  },
  "orig_nbformat": 4
 },
 "nbformat": 4,
 "nbformat_minor": 2
}
