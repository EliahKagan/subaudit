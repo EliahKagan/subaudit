{
 "cells": [
  {
   "attachments": {},
   "cell_type": "markdown",
   "metadata": {},
   "source": [
    "# `@subaudit.skip_if_unavailable` demonstration"
   ]
  },
  {
   "cell_type": "code",
   "execution_count": 1,
   "metadata": {},
   "outputs": [],
   "source": [
    "import contextlib\n",
    "import importlib\n",
    "import sys\n",
    "\n",
    "import unittest.mock\n",
    "\n",
    "import subaudit"
   ]
  },
  {
   "cell_type": "code",
   "execution_count": 2,
   "metadata": {},
   "outputs": [],
   "source": [
    "sys.modules['sysaudit'] = sys"
   ]
  },
  {
   "cell_type": "code",
   "execution_count": 3,
   "metadata": {},
   "outputs": [],
   "source": [
    "def demo_skip_if_unavailable(*, patch_version):\n",
    "    if patch_version is None:\n",
    "        maybe_patcher = contextlib.nullcontext()\n",
    "    else:\n",
    "        maybe_patcher = unittest.mock.patch('sys.version_info', patch_version)\n",
    "\n",
    "    with maybe_patcher:\n",
    "        importlib.reload(subaudit)\n",
    "\n",
    "        @subaudit.skip_if_unavailable\n",
    "        def dummy() -> None:\n",
    "            pass\n",
    "\n",
    "        dummy()"
   ]
  },
  {
   "cell_type": "code",
   "execution_count": 4,
   "metadata": {},
   "outputs": [],
   "source": [
    "demo_skip_if_unavailable(patch_version=None)"
   ]
  },
  {
   "cell_type": "code",
   "execution_count": 5,
   "metadata": {},
   "outputs": [
    {
     "ename": "SkipTest",
     "evalue": "Python Runtime Audit Hooks (PEP 578) were introduced in Python 3.8.",
     "output_type": "error",
     "traceback": [
      "\u001b[0;31m---------------------------------------------------------------------------\u001b[0m",
      "\u001b[0;31mSkipTest\u001b[0m                                  Traceback (most recent call last)",
      "Cell \u001b[0;32mIn[5], line 1\u001b[0m\n\u001b[0;32m----> 1\u001b[0m demo_skip_if_unavailable(patch_version\u001b[39m=\u001b[39;49m(\u001b[39m3\u001b[39;49m, \u001b[39m7\u001b[39;49m))\n",
      "Cell \u001b[0;32mIn[3], line 14\u001b[0m, in \u001b[0;36mdemo_skip_if_unavailable\u001b[0;34m(patch_version)\u001b[0m\n\u001b[1;32m     10\u001b[0m \u001b[39m@subaudit\u001b[39m\u001b[39m.\u001b[39mskip_if_unavailable\n\u001b[1;32m     11\u001b[0m \u001b[39mdef\u001b[39;00m \u001b[39mdummy\u001b[39m() \u001b[39m-\u001b[39m\u001b[39m>\u001b[39m \u001b[39mNone\u001b[39;00m:\n\u001b[1;32m     12\u001b[0m     \u001b[39mpass\u001b[39;00m\n\u001b[0;32m---> 14\u001b[0m dummy()\n",
      "File \u001b[0;32m/usr/lib/python3.11/unittest/case.py:155\u001b[0m, in \u001b[0;36mskip.<locals>.decorator.<locals>.skip_wrapper\u001b[0;34m(*args, **kwargs)\u001b[0m\n\u001b[1;32m    153\u001b[0m \u001b[39m@functools\u001b[39m\u001b[39m.\u001b[39mwraps(test_item)\n\u001b[1;32m    154\u001b[0m \u001b[39mdef\u001b[39;00m \u001b[39mskip_wrapper\u001b[39m(\u001b[39m*\u001b[39margs, \u001b[39m*\u001b[39m\u001b[39m*\u001b[39mkwargs):\n\u001b[0;32m--> 155\u001b[0m     \u001b[39mraise\u001b[39;00m SkipTest(reason)\n",
      "\u001b[0;31mSkipTest\u001b[0m: Python Runtime Audit Hooks (PEP 578) were introduced in Python 3.8."
     ]
    }
   ],
   "source": [
    "demo_skip_if_unavailable(patch_version=(3, 7))"
   ]
  },
  {
   "cell_type": "code",
   "execution_count": null,
   "metadata": {},
   "outputs": [],
   "source": []
  }
 ],
 "metadata": {
  "kernelspec": {
   "display_name": "subaudit-Ae4aMzzj-py3.11",
   "language": "python",
   "name": "python3"
  },
  "language_info": {
   "codemirror_mode": {
    "name": "ipython",
    "version": 3
   },
   "file_extension": ".py",
   "mimetype": "text/x-python",
   "name": "python",
   "nbconvert_exporter": "python",
   "pygments_lexer": "ipython3",
   "version": "3.11.3"
  },
  "orig_nbformat": 4
 },
 "nbformat": 4,
 "nbformat_minor": 2
}
