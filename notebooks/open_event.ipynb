{
 "cells": [
  {
   "attachments": {},
   "cell_type": "markdown",
   "metadata": {},
   "source": [
    "# The `open` event\n",
    "\n",
    "The `open` audit event is raised when a file is opened by the `open` builtin and some other mechanisms."
   ]
  },
  {
   "cell_type": "code",
   "execution_count": 1,
   "metadata": {},
   "outputs": [],
   "source": [
    "import pathlib\n",
    "\n",
    "import subaudit"
   ]
  },
  {
   "attachments": {},
   "cell_type": "markdown",
   "metadata": {},
   "source": [
    "## The `open` builtin"
   ]
  },
  {
   "cell_type": "code",
   "execution_count": 2,
   "metadata": {},
   "outputs": [
    {
     "data": {
      "text/plain": [
       "[('../LICENSE', 'r', 524288)]"
      ]
     },
     "execution_count": 2,
     "metadata": {},
     "output_type": "execute_result"
    }
   ],
   "source": [
    "with subaudit.extracting('open', lambda *args: (*args,)) as extracts:\n",
    "    with open('../LICENSE', encoding='utf-8'):\n",
    "        pass\n",
    "\n",
    "extracts"
   ]
  },
  {
   "attachments": {},
   "cell_type": "markdown",
   "metadata": {},
   "source": [
    "On CPython, the above output tends to look like:\n",
    "\n",
    "```python\n",
    "[('../README.md', 'r', 524288)]\n",
    "```\n",
    "\n",
    "On PyPy, it tends to look like:\n",
    "\n",
    "```python\n",
    "[('../LICENSE', 'r', 1)]\n",
    "```"
   ]
  },
  {
   "attachments": {},
   "cell_type": "markdown",
   "metadata": {},
   "source": [
    "## `pathlib.Path`’s `read_*` and `write_*` methods"
   ]
  },
  {
   "attachments": {},
   "cell_type": "markdown",
   "metadata": {},
   "source": [
    "**NOTE: This section contains substantial *wrong* information, which *must* be\n",
    "corrected before this is merged to the main branch!**"
   ]
  },
  {
   "attachments": {},
   "cell_type": "markdown",
   "metadata": {},
   "source": [
    "Using a `pathlib.Path` object to open a file, by calling its `read_bytes`,\n",
    "`read_text`, `write_bytes`, or `write_text` methods, likewise raises the `open`\n",
    "event, as if (and probably due to) their use of `open`.\n",
    "\n",
    "In CPython, a call to one of those methods raises the `open` event only once.\n",
    "\n",
    "In PyPy, a call to one of those methods raises the `open` event *twice*: the\n",
    "method raises it on behalf of itself as well (rather than just the `open`\n",
    "builtin or however else the behavior is implemented). This can be distinguished\n",
    "because it passes a `Path` object, rather than a `str`, for the `path`\n",
    "argument, and passes `None` for the `mode` argument. This additional event is\n",
    "raised *after* the regular one."
   ]
  },
  {
   "cell_type": "code",
   "execution_count": 3,
   "metadata": {},
   "outputs": [
    {
     "data": {
      "text/plain": [
       "[('../README.md', 'r', 524288), ('../README.md', None, 524288)]"
      ]
     },
     "execution_count": 3,
     "metadata": {},
     "output_type": "execute_result"
    }
   ],
   "source": [
    "with subaudit.extracting('open', lambda *args: (*args,)) as extracts:\n",
    "    pathlib.Path('../README.md').read_text(encoding='utf-8')\n",
    "\n",
    "extracts"
   ]
  },
  {
   "attachments": {},
   "cell_type": "markdown",
   "metadata": {},
   "source": [
    "On CPython, the above output tends to look like:\n",
    "\n",
    "```python\n",
    "[('../README.md', 'r', 524288)]\n",
    "```\n",
    "\n",
    "On PyPy, it tends to look like:\n",
    "\n",
    "```python\n",
    "[('../README.md', 'r', 1), (PosixPath('../README.md'), None, 524288)]\n",
    "```"
   ]
  }
 ],
 "metadata": {
  "kernelspec": {
   "display_name": "subaudit-Ae4aMzzj-py3.11",
   "language": "python",
   "name": "python3"
  },
  "language_info": {
   "codemirror_mode": {
    "name": "ipython",
    "version": 3
   },
   "file_extension": ".py",
   "mimetype": "text/x-python",
   "name": "python",
   "nbconvert_exporter": "python",
   "pygments_lexer": "ipython3",
   "version": "3.8.16"
  },
  "orig_nbformat": 4
 },
 "nbformat": 4,
 "nbformat_minor": 2
}
